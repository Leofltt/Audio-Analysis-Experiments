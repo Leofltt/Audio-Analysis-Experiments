{
 "cells": [
  {
   "cell_type": "code",
   "execution_count": 21,
   "metadata": {},
   "outputs": [],
   "source": [
    "import stftAnSyn as stft\n",
    "import dftAnSyn as dft\n",
    "import SinesAnSyn as sines\n",
    "import harmonicAnSyn as harms\n",
    "import stochasticAnSyn as stoc\n",
    "import harmResAnSyn as HR\n",
    "import Utilities as U\n",
    "import math"
   ]
  },
  {
   "cell_type": "code",
   "execution_count": 22,
   "metadata": {},
   "outputs": [],
   "source": [
    "import numpy as np\n",
    "from scipy.signal import get_window, blackmanharris, resample, blackman\n",
    "from scipy.signal import chirp, triang\n",
    "from scipy.fftpack import ifft, fft\n",
    "import scipy.io.wavfile as wavfile\n",
    "import os, sys\n",
    "import matplotlib.pyplot as plt"
   ]
  },
  {
   "cell_type": "code",
   "execution_count": null,
   "metadata": {},
   "outputs": [],
   "source": [
    "sr = 44100\n",
    "f0 = 150 # Hz\n",
    "f1 = 8500 # Hz\n",
    "t1 = 2 # seconds\n",
    "t = np.linspace(0,t1,int(t1*sr))\n",
    "chirpSig = chirp(t, f0, t1, f1)\n",
    "wavfile.write(\"chirp.wav\", sr, np.int16(chirpSig*2**14))"
   ]
  },
  {
   "cell_type": "code",
   "execution_count": null,
   "metadata": {},
   "outputs": [],
   "source": [
    "plt.plot(chirpSig[0:2000])\n",
    "plt.xlabel('sample index')\n",
    "plt.ylabel('sample value')"
   ]
  },
  {
   "cell_type": "code",
   "execution_count": null,
   "metadata": {},
   "outputs": [],
   "source": [
    "(fs, x) = wavfile.read('mono_noisy_hello.wav')"
   ]
  },
  {
   "cell_type": "code",
   "execution_count": null,
   "metadata": {},
   "outputs": [],
   "source": [
    "plt.plot(x[0:88000])\n",
    "plt.xlabel('sample index')\n",
    "plt.ylabel('sample value')"
   ]
  },
  {
   "cell_type": "code",
   "execution_count": null,
   "metadata": {},
   "outputs": [],
   "source": [
    "N = 512\n",
    "M = 256\n",
    "H = 128\n",
    "w = get_window(\"blackman\",M)\n",
    "mX, phX = stft.stftAnal(x, w, N, H)\n",
    "y = stft.stftSynth(mX, phX, w.size,H)\n",
    "wavfile.write(\"newHello.wav\", fs, y)"
   ]
  },
  {
   "cell_type": "code",
   "execution_count": null,
   "metadata": {},
   "outputs": [],
   "source": [
    "(fs, x) = wavfile.read('sine440.wav')"
   ]
  },
  {
   "cell_type": "code",
   "execution_count": null,
   "metadata": {},
   "outputs": [],
   "source": [
    "M = 512\n",
    "N = 2048\n",
    "tresh = -20\n",
    "win = get_window('hamming',M)\n",
    "x1 = x[int(.8*fs):int(.8*fs)+M]"
   ]
  },
  {
   "cell_type": "code",
   "execution_count": null,
   "metadata": {},
   "outputs": [],
   "source": [
    "(mX, pX) = dft.dftAnal(x1, win, N)\n",
    "peaks = U.peakDetection(mX, tresh)\n",
    "pMag = mX[peaks]"
   ]
  },
  {
   "cell_type": "code",
   "execution_count": null,
   "metadata": {},
   "outputs": [],
   "source": [
    "freqaxe = fs * np.arange(N/2+1)/float(N)\n",
    "plt.plot(freqaxe, mX)\n",
    "plt.plot(fs * peaks/ float(N), pMag, marker='x', linestyle='')\n",
    "plt.show()"
   ]
  },
  {
   "cell_type": "code",
   "execution_count": null,
   "metadata": {},
   "outputs": [],
   "source": [
    "pLoc, pMag, pPh = U.peak_parabolicInterp(mX, pX, peaks)"
   ]
  },
  {
   "cell_type": "code",
   "execution_count": null,
   "metadata": {},
   "outputs": [],
   "source": [
    "freqaxe = fs * np.arange(N/2+1)/float(N)\n",
    "plt.plot(freqaxe, mX)\n",
    "plt.plot(fs * pLoc/ float(N), pMag, marker='x', linestyle='')\n",
    "plt.show()"
   ]
  },
  {
   "cell_type": "code",
   "execution_count": null,
   "metadata": {},
   "outputs": [],
   "source": [
    "bins = np.array([-4,-3,-2,-1,0,1,2,3])\n",
    "X = U.genBhLobe(bins)\n",
    "plt.plot(20 * np.log10(X))"
   ]
  },
  {
   "cell_type": "code",
   "execution_count": null,
   "metadata": {},
   "outputs": [],
   "source": [
    "sf = 44100\n",
    "N = 512\n",
    "peakFreq = np.array([4000])\n",
    "peakMag = np.array([0])\n",
    "peakPhase = np.array([0])"
   ]
  },
  {
   "cell_type": "code",
   "execution_count": null,
   "metadata": {},
   "outputs": [],
   "source": [
    "Y = U.genSinesSpectrum(peakFreq, peakMag, peakPhase, N, sf)"
   ]
  },
  {
   "cell_type": "code",
   "execution_count": null,
   "metadata": {},
   "outputs": [],
   "source": [
    "absY = abs(Y[:int(N/2)])\n",
    "absY[absY < np.finfo(float).eps] = np.finfo(float).eps"
   ]
  },
  {
   "cell_type": "code",
   "execution_count": null,
   "metadata": {},
   "outputs": [],
   "source": [
    "freqAxe = fs * np.arange(N/2)/float(N)\n",
    "plt.plot(freqAxe, 20 * np.log10(absY))\n",
    "plt.show()"
   ]
  },
  {
   "cell_type": "code",
   "execution_count": null,
   "metadata": {},
   "outputs": [],
   "source": [
    "hN = int(N/2)\n",
    "y = np.real(ifft(Y))\n",
    "synthwin = np.zeros(N)\n",
    "ow = triang(N/2)\n",
    "synthwin[hN-H:hN+H] = ow\n",
    "bh = blackmanharris(N)\n",
    "bh = bh/sum(bh)\n",
    "synthwin[hN-H:hN+H] = synthwin[hN-H:hN+H] / bh[hN-H:hN+H] "
   ]
  },
  {
   "cell_type": "code",
   "execution_count": null,
   "metadata": {},
   "outputs": [],
   "source": [
    "yw = np.zeros(N)\n",
    "yw[:hN-1] = y[hN+1:]\n",
    "yw[hN-1:] = y[:hN+1]\n",
    "yw *= synthwin"
   ]
  },
  {
   "cell_type": "code",
   "execution_count": null,
   "metadata": {},
   "outputs": [],
   "source": [
    "plt.plot(yw)\n",
    "plt.show()"
   ]
  },
  {
   "cell_type": "code",
   "execution_count": null,
   "metadata": {},
   "outputs": [],
   "source": [
    "(fs, x) = wavfile.read('oboe-A4.wav')\n",
    "N = 512\n",
    "hN = int(N/2)\n",
    "H = int(N/4)\n",
    "M = 511\n",
    "tresh = -70\n",
    "win = get_window('hamming',M)\n",
    "x1 = x[int(0.8*fs):int(0.8*fs)+M]\n",
    "(mX, pX) = dft.dftAnal(x1,win,N)\n",
    "peaks = U.peakDetection(mX, tresh)\n",
    "(peakC, peakMag, peakPh) = U.peak_parabolicInterp(mX,pX,peaks)\n",
    "peakFreq = fs*peaks/float(N)\n",
    "Y = U.genSinesSpectrum(peakFreq, peakMag, peakPh, N, fs)\n",
    "y = np.real(ifft(Y))"
   ]
  },
  {
   "cell_type": "code",
   "execution_count": null,
   "metadata": {},
   "outputs": [],
   "source": [
    "synthesisWindow = np.zeros(N)\n",
    "ow = triang(N/2)\n",
    "synthesisWindow[hN-H:hN+H] = ow\n",
    "bh = blackmanharris(N)\n",
    "bh = bh / sum(bh)\n",
    "synthesisWindow[hN-H:hN+H] = synthesisWindow[hN-H:hN+H] / bh[hN-H:hN+H]\n"
   ]
  },
  {
   "cell_type": "code",
   "execution_count": null,
   "metadata": {},
   "outputs": [],
   "source": [
    "ywin = np.zeros(N)\n",
    "ywin[:hN-1] = y[hN+1:]\n",
    "ywin[hN-1:] = y[:hN+1]\n",
    "ywin *= synthesisWindow"
   ]
  },
  {
   "cell_type": "code",
   "execution_count": null,
   "metadata": {},
   "outputs": [],
   "source": [
    "freqAxe = fs * np.arange(N/2)/float(N)\n",
    "plt.plot(freqAxe, mX[1:])\n",
    "plt.plot(fs*peaks / N, peakMag, marker='x',linestyle='')\n",
    "plt.show"
   ]
  },
  {
   "cell_type": "code",
   "execution_count": null,
   "metadata": {},
   "outputs": [],
   "source": [
    "plt.plot(ywin)\n",
    "#plt.plot(y)"
   ]
  },
  {
   "cell_type": "code",
   "execution_count": null,
   "metadata": {},
   "outputs": [],
   "source": [
    "(fs, x) = wavfile.read('VocalChop.wav')\n",
    "N = 2048\n",
    "M = 2000\n",
    "tresh = -80\n",
    "H = 128\n",
    "win = get_window('hamming',M)\n",
    "minDur = 0.02\n",
    "maxSines = 100\n",
    "freqSlope = 0.001\n",
    "freqDevOff = 10\n",
    "\n",
    "tfreq, tmag, tphase = sines.sineModelAnal(x, fs, win, N, H, tresh, maxSines, minDur, freqDevOff, freqSlope)\n",
    "\n",
    "No = 512\n",
    "out = sines.sineModelSynth(tfreq,tmag,tphase,No,H,fs)\n",
    "out = np.int16(out)\n",
    "wavfile.write(\"trackedSines.wav\", fs, out)\n"
   ]
  },
  {
   "cell_type": "code",
   "execution_count": null,
   "metadata": {},
   "outputs": [],
   "source": [
    "nframes = int(tfreq[:,0].size)\n",
    "fT = H * np.arange(nframes)/float(fs)\n",
    "tfreq[tfreq<=0] = np.nan\n",
    "plt.plot(fT, tfreq)\n",
    "plt.show()"
   ]
  },
  {
   "cell_type": "code",
   "execution_count": null,
   "metadata": {},
   "outputs": [],
   "source": [
    "(fs, x) = wavfile.read('VocalChop.wav')\n",
    "N = 2048\n",
    "M = 1201\n",
    "tresh = -90\n",
    "nH = 40\n",
    "win = get_window('blackman',M)\n",
    "minSineDur = 0.3\n",
    "minf0 = 100\n",
    "maxf0 = 800\n",
    "f0e = 5\n",
    "harmSlope = 0.01\n",
    "\n",
    "Ns = 512\n",
    "H = 128\n",
    "\n",
    "hfreq, hmag, hphase = harms.harmonicModelAnal(x, fs, win, N, H, tresh, nH, minf0, maxf0, f0e, harmSlope, minSineDur)\n",
    "\n",
    "numFrames = int(hfreq[:,0].size)\n",
    "fTime = H*np.arange(numFrames)/float(fs)\n",
    "hfreq[hfreq<=0] = np.nan\n",
    "\n",
    "plt.plot(fTime, hfreq)\n",
    "plt.show()\n",
    "\n",
    "out = harms.harmonicModel(x, fs, win, N, tresh, nH, minf0, maxf0, f0e)\n",
    "out = np.int16(out)\n",
    "wavfile.write(\"trackedHarmonics.wav\", fs, out)\n"
   ]
  },
  {
   "cell_type": "code",
   "execution_count": null,
   "metadata": {},
   "outputs": [],
   "source": [
    "(fs, x) = wavfile.read('seashore-waves-mono.wav')\n",
    "\n",
    "H = 256\n",
    "N = 512\n",
    "sf = 0.1\n",
    "\n",
    "env = stoc.stochasticAnal(x, H, N, sf)\n",
    "\n",
    "out = stoc.stochasticSynth(env,H,N)\n",
    "out = np.int16(out)\n",
    "wavfile.write(\"stochastic-wave.wav\", fs, out)\n",
    "\n",
    "plt.plot(np.arange(out.size)/float(fs),out)"
   ]
  },
  {
   "cell_type": "code",
   "execution_count": 23,
   "metadata": {},
   "outputs": [],
   "source": [
    "(fs,x) = wavfile.read('VocalChop.wav')\n",
    "begin = 40000\n",
    "M = 801\n",
    "N = 2048\n",
    "t = -100\n",
    "minf0 = 300\n",
    "maxf0 = 500\n",
    "f0e = 5\n",
    "nH = 60\n",
    "harmSl = .01\n",
    "\n",
    "w = get_window('blackman', M)\n",
    "hM1 = int(math.floor((M+1)/2))\n",
    "hM2 = int(math.floor(M/2))\n",
    "\n",
    "x1 = x[begin-hM1:begin+hM2]\n",
    "mX, pX = dft.dftAnal(x1, w, N)\n",
    "ploc = U.peakDetection(mX, t)\n",
    "iploc, pmag, ppx = U.peak_parabolicInterp(mX, pX, ploc)\n",
    "ipf = fs*iploc/N\n",
    "f0 = U.f0Twm(ipf, pmag, f0e, minf0, maxf0,0)\n",
    "hfr, hmag, hpx = harms.harmonicDetection(ipf,pmag,ppx, f0, nH, [], fs, harmSl)\n",
    "\n",
    "Ns = 512\n",
    "hNs = 256\n",
    "Yh = U.genSinesSpectrum(hfr, hmag, hpx, Ns, fs)\n",
    "\n",
    "wr = get_window('blackmanharris', Ns)\n",
    "xw2 = x[begin-hNs-1:begin+hNs-1] * wr / sum(wr)\n",
    "fftbuffer = np.zeros(Ns)\n",
    "fftbuffer[:hNs] = xw2[hNs:]\n",
    "fftbuffer[hNs:] = xw2[:hNs]\n",
    "x2 = fft(fftbuffer)\n",
    "Xr = x2 - Yh"
   ]
  },
  {
   "cell_type": "code",
   "execution_count": 24,
   "metadata": {},
   "outputs": [],
   "source": [
    "N = 1024\n",
    "M = 601 \n",
    "Ns = 512\n",
    "H = 128\n",
    "minSineDur = 0.1\n",
    "nH = 100\n",
    "\n",
    "hfreq, hmag, hphase, xr = HR.hprModelAnal(x, fs, w, N, H, t, minSineDur, nH, minf0, maxf0, f0e, harmSl)\n",
    "mXr, pXr = stft.stftAnal(xr, w, N, H)\n",
    "y, yh = HR.hprModelSynth(hfreq, hmag, hphase, xr, Ns, H, fs)\n",
    "\n",
    "out1 = np.int16(yh)\n",
    "out2 = np.int16(xr)\n",
    "out3 = np.int16(y)\n",
    "wavfile.write(\"hr_sines.wav\", fs, out1)\n",
    "wavfile.write(\"hr_residual.wav\", fs, out2)\n",
    "wavfile.write(\"hr_output.wav\", fs, out3)"
   ]
  },
  {
   "cell_type": "code",
   "execution_count": null,
   "metadata": {},
   "outputs": [],
   "source": []
  }
 ],
 "metadata": {
  "kernelspec": {
   "display_name": "Python 3",
   "language": "python",
   "name": "python3"
  },
  "language_info": {
   "codemirror_mode": {
    "name": "ipython",
    "version": 3
   },
   "file_extension": ".py",
   "mimetype": "text/x-python",
   "name": "python",
   "nbconvert_exporter": "python",
   "pygments_lexer": "ipython3",
   "version": "3.7.4"
  }
 },
 "nbformat": 4,
 "nbformat_minor": 2
}
