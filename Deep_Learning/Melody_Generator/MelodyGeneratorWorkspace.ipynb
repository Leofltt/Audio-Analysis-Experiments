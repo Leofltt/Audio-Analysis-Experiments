{
 "cells": [
  {
   "cell_type": "code",
   "execution_count": 6,
   "metadata": {},
   "outputs": [],
   "source": [
    "import preprocess as pp\n",
    "import train as tr\n",
    "import melodygenerator as mg"
   ]
  },
  {
   "cell_type": "code",
   "execution_count": 2,
   "metadata": {},
   "outputs": [],
   "source": [
    "KERN_DATASET_PATH = 'essen/europa/deutschl/erk'\n",
    "SAVE_DIR = 'dataset'\n",
    "FILE_NAME = 'file_ds'\n",
    "MAPPING = 'mapping.json'\n",
    "SEQ_LENGTH = 64\n",
    "ACCEPTABLE_DUR = [0.25,0.5,0.75,1.0,1.5,2,3,4]"
   ]
  },
  {
   "cell_type": "code",
   "execution_count": 3,
   "metadata": {},
   "outputs": [
    {
     "name": "stdout",
     "output_type": "stream",
     "text": [
      "loading songs...\n"
     ]
    }
   ],
   "source": [
    "pp.preprocess(KERN_DATASET_PATH)\n",
    "songs = pp.dataset_into_one_file(SAVE_DIR, FILE_NAME, SEQ_LENGTH)\n",
    "pp.create_mapping(songs, MAPPING)\n",
    "inputs, targets = pp.gen_train_seqs(SEQ_LENGTH)"
   ]
  },
  {
   "cell_type": "code",
   "execution_count": 4,
   "metadata": {},
   "outputs": [],
   "source": [
    "OUTPUT_SZ = 38  # vocab size\n",
    "NUM_UNITS = [256]\n",
    "LOSS = 'sparse_categorical_crossentropy'\n",
    "LR = 0.001\n",
    "EPOCHS = 50\n",
    "BATCH_SZ = 64\n",
    "SAVE_PATH = 'model.h5'"
   ]
  },
  {
   "cell_type": "code",
   "execution_count": 5,
   "metadata": {},
   "outputs": [
    {
     "name": "stderr",
     "output_type": "stream",
     "text": [
      "WARNING: Logging before flag parsing goes to stderr.\n",
      "W1012 16:30:19.486378 4342775232 deprecation.py:506] From /usr/local/lib/python3.7/site-packages/tensorflow_core/python/ops/resource_variable_ops.py:1630: calling BaseResourceVariable.__init__ (from tensorflow.python.ops.resource_variable_ops) with constraint is deprecated and will be removed in a future version.\n",
      "Instructions for updating:\n",
      "If using Keras pass *_constraint arguments to layers.\n",
      "W1012 16:30:19.715173 4342775232 deprecation.py:323] From /usr/local/lib/python3.7/site-packages/tensorflow_core/python/ops/math_grad.py:1424: where (from tensorflow.python.ops.array_ops) is deprecated and will be removed in a future version.\n",
      "Instructions for updating:\n",
      "Use tf.where in 2.0, which has the same broadcast rule as np.where\n"
     ]
    },
    {
     "name": "stdout",
     "output_type": "stream",
     "text": [
      "Model: \"model\"\n",
      "_________________________________________________________________\n",
      "Layer (type)                 Output Shape              Param #   \n",
      "=================================================================\n",
      "input_1 (InputLayer)         [(None, None, 38)]        0         \n",
      "_________________________________________________________________\n",
      "lstm (LSTM)                  (None, 256)               302080    \n",
      "_________________________________________________________________\n",
      "dropout (Dropout)            (None, 256)               0         \n",
      "_________________________________________________________________\n",
      "dense (Dense)                (None, 38)                9766      \n",
      "=================================================================\n",
      "Total params: 311,846\n",
      "Trainable params: 311,846\n",
      "Non-trainable params: 0\n",
      "_________________________________________________________________\n",
      "Train on 362178 samples\n",
      "Epoch 1/50\n",
      "362178/362178 [==============================] - 630s 2ms/sample - loss: 0.6841 - acc: 0.7891\n",
      "Epoch 2/50\n",
      "362178/362178 [==============================] - 650s 2ms/sample - loss: 0.5751 - acc: 0.8144\n",
      "Epoch 3/50\n",
      "362178/362178 [==============================] - 1143s 3ms/sample - loss: 0.5365 - acc: 0.8267\n",
      "Epoch 4/50\n",
      "362178/362178 [==============================] - 632s 2ms/sample - loss: 0.5134 - acc: 0.8339\n",
      "Epoch 5/50\n",
      "362178/362178 [==============================] - 642s 2ms/sample - loss: 0.4928 - acc: 0.8393\n",
      "Epoch 6/50\n",
      "362178/362178 [==============================] - 646s 2ms/sample - loss: 0.4768 - acc: 0.8444\n",
      "Epoch 7/50\n",
      "362178/362178 [==============================] - 643s 2ms/sample - loss: 0.4631 - acc: 0.8483\n",
      "Epoch 8/50\n",
      "362178/362178 [==============================] - 624s 2ms/sample - loss: 0.4492 - acc: 0.8526\n",
      "Epoch 9/50\n",
      "362178/362178 [==============================] - 607s 2ms/sample - loss: 0.4364 - acc: 0.8559\n",
      "Epoch 10/50\n",
      "362178/362178 [==============================] - 609s 2ms/sample - loss: 0.4240 - acc: 0.8600\n",
      "Epoch 11/50\n",
      "362178/362178 [==============================] - 616s 2ms/sample - loss: 0.4105 - acc: 0.8638\n",
      "Epoch 12/50\n",
      "362178/362178 [==============================] - 614s 2ms/sample - loss: 0.4011 - acc: 0.8674\n",
      "Epoch 13/50\n",
      "362178/362178 [==============================] - 611s 2ms/sample - loss: 0.3897 - acc: 0.8709\n",
      "Epoch 14/50\n",
      "362178/362178 [==============================] - 612s 2ms/sample - loss: 0.3820 - acc: 0.8729\n",
      "Epoch 15/50\n",
      "362178/362178 [==============================] - 617s 2ms/sample - loss: 0.3729 - acc: 0.8760\n",
      "Epoch 16/50\n",
      "362178/362178 [==============================] - 613s 2ms/sample - loss: 0.3644 - acc: 0.8785\n",
      "Epoch 17/50\n",
      "362178/362178 [==============================] - 610s 2ms/sample - loss: 0.3589 - acc: 0.8794\n",
      "Epoch 18/50\n",
      "362178/362178 [==============================] - 617s 2ms/sample - loss: 0.3516 - acc: 0.8820\n",
      "Epoch 19/50\n",
      "362178/362178 [==============================] - 614s 2ms/sample - loss: 0.3443 - acc: 0.8847\n",
      "Epoch 20/50\n",
      "362178/362178 [==============================] - 615s 2ms/sample - loss: 0.3396 - acc: 0.8850\n",
      "Epoch 21/50\n",
      "362178/362178 [==============================] - 613s 2ms/sample - loss: 0.3310 - acc: 0.8886\n",
      "Epoch 22/50\n",
      "362178/362178 [==============================] - 599s 2ms/sample - loss: 0.3323 - acc: 0.8877\n",
      "Epoch 23/50\n",
      "362178/362178 [==============================] - 614s 2ms/sample - loss: 0.3330 - acc: 0.8875\n",
      "Epoch 24/50\n",
      "362178/362178 [==============================] - 611s 2ms/sample - loss: 0.3281 - acc: 0.8898\n",
      "Epoch 25/50\n",
      "362178/362178 [==============================] - 617s 2ms/sample - loss: 0.3199 - acc: 0.8920\n",
      "Epoch 26/50\n",
      "362178/362178 [==============================] - 621s 2ms/sample - loss: 0.3158 - acc: 0.8932\n",
      "Epoch 27/50\n",
      "362178/362178 [==============================] - 619s 2ms/sample - loss: 0.3107 - acc: 0.8950\n",
      "Epoch 28/50\n",
      "362178/362178 [==============================] - 617s 2ms/sample - loss: 0.3072 - acc: 0.8964\n",
      "Epoch 29/50\n",
      "362178/362178 [==============================] - 618s 2ms/sample - loss: 0.3177 - acc: 0.8935\n",
      "Epoch 30/50\n",
      "362178/362178 [==============================] - 617s 2ms/sample - loss: 0.3445 - acc: 0.8870\n",
      "Epoch 31/50\n",
      "362178/362178 [==============================] - 617s 2ms/sample - loss: 0.3175 - acc: 0.8933\n",
      "Epoch 32/50\n",
      "362178/362178 [==============================] - 622s 2ms/sample - loss: 0.3120 - acc: 0.8945\n",
      "Epoch 33/50\n",
      "362178/362178 [==============================] - 622s 2ms/sample - loss: 0.3048 - acc: 0.8966\n",
      "Epoch 34/50\n",
      "362178/362178 [==============================] - 622s 2ms/sample - loss: 0.3010 - acc: 0.8983\n",
      "Epoch 35/50\n",
      "362178/362178 [==============================] - 617s 2ms/sample - loss: 0.2935 - acc: 0.9007\n",
      "Epoch 36/50\n",
      "362178/362178 [==============================] - 621s 2ms/sample - loss: 0.2911 - acc: 0.9013\n",
      "Epoch 37/50\n",
      "362178/362178 [==============================] - 629s 2ms/sample - loss: 0.2878 - acc: 0.9028\n",
      "Epoch 38/50\n",
      "362178/362178 [==============================] - 628s 2ms/sample - loss: 0.2837 - acc: 0.9036\n",
      "Epoch 39/50\n",
      "362178/362178 [==============================] - 620s 2ms/sample - loss: 0.2837 - acc: 0.9039\n",
      "Epoch 40/50\n",
      "362178/362178 [==============================] - 618s 2ms/sample - loss: 0.2827 - acc: 0.9043\n",
      "Epoch 41/50\n",
      "362178/362178 [==============================] - 622s 2ms/sample - loss: 0.2778 - acc: 0.9056\n",
      "Epoch 42/50\n",
      "362178/362178 [==============================] - 619s 2ms/sample - loss: 0.2769 - acc: 0.9058\n",
      "Epoch 43/50\n",
      "362178/362178 [==============================] - 619s 2ms/sample - loss: 0.2720 - acc: 0.9077\n",
      "Epoch 44/50\n",
      "362178/362178 [==============================] - 622s 2ms/sample - loss: 0.2711 - acc: 0.9076\n",
      "Epoch 45/50\n",
      "362178/362178 [==============================] - 630s 2ms/sample - loss: 0.2736 - acc: 0.9068\n",
      "Epoch 46/50\n",
      "362178/362178 [==============================] - 622s 2ms/sample - loss: 0.2676 - acc: 0.9087\n",
      "Epoch 47/50\n",
      "362178/362178 [==============================] - 623s 2ms/sample - loss: 0.2624 - acc: 0.9104\n",
      "Epoch 48/50\n",
      "362178/362178 [==============================] - 621s 2ms/sample - loss: 0.2636 - acc: 0.9102\n",
      "Epoch 49/50\n",
      "362178/362178 [==============================] - 627s 2ms/sample - loss: 0.2634 - acc: 0.9098\n",
      "Epoch 50/50\n",
      "362178/362178 [==============================] - 638s 2ms/sample - loss: 0.2623 - acc: 0.9103\n"
     ]
    }
   ],
   "source": [
    "tr.train(num_outputs=OUTPUT_SZ, num_units=NUM_UNITS, loss=LOSS, learning_rate=LR, save_path=SAVE_PATH)"
   ]
  },
  {
   "cell_type": "code",
   "execution_count": 9,
   "metadata": {
    "scrolled": true
   },
   "outputs": [],
   "source": [
    "m_g = mg.MelodyGenerator(model_path=SAVE_PATH)\n",
    "seed = '55 _ _ _ 60 _ 57 _ _ _ _ _ 59 _ _ _'\n",
    "seed2 = '62 _ _ _ 62 _ _ _ 60 _ _ _ _ _ _ _'\n",
    "melody = m_g.generate(seed, 50, SEQ_LENGTH, 0.6)\n",
    "m_g.save_melody(melody)"
   ]
  },
  {
   "cell_type": "code",
   "execution_count": null,
   "metadata": {},
   "outputs": [],
   "source": []
  }
 ],
 "metadata": {
  "kernelspec": {
   "display_name": "Python 3",
   "language": "python",
   "name": "python3"
  },
  "language_info": {
   "codemirror_mode": {
    "name": "ipython",
    "version": 3
   },
   "file_extension": ".py",
   "mimetype": "text/x-python",
   "name": "python",
   "nbconvert_exporter": "python",
   "pygments_lexer": "ipython3",
   "version": "3.7.4"
  }
 },
 "nbformat": 4,
 "nbformat_minor": 2
}
